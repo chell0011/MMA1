{
 "cells": [
  {
   "cell_type": "code",
   "execution_count": 1,
   "metadata": {},
   "outputs": [],
   "source": [
    "import geopandas"
   ]
  },
  {
   "cell_type": "code",
   "execution_count": 3,
   "metadata": {},
   "outputs": [],
   "source": [
    "world = geopandas.read_file(geopandas.datasets.get_path(\"naturalearth_lowres\"))\n",
    "cities = geopandas.read_file(geopandas.datasets.get_path(\"naturalearth_cities\"))"
   ]
  },
  {
   "cell_type": "code",
   "execution_count": 6,
   "metadata": {},
   "outputs": [
    {
     "data": {
      "text/html": [
       "<div>\n",
       "<style scoped>\n",
       "    .dataframe tbody tr th:only-of-type {\n",
       "        vertical-align: middle;\n",
       "    }\n",
       "\n",
       "    .dataframe tbody tr th {\n",
       "        vertical-align: top;\n",
       "    }\n",
       "\n",
       "    .dataframe thead th {\n",
       "        text-align: right;\n",
       "    }\n",
       "</style>\n",
       "<table border=\"1\" class=\"dataframe\">\n",
       "  <thead>\n",
       "    <tr style=\"text-align: right;\">\n",
       "      <th></th>\n",
       "      <th>name</th>\n",
       "      <th>geometry</th>\n",
       "    </tr>\n",
       "  </thead>\n",
       "  <tbody>\n",
       "    <tr>\n",
       "      <th>0</th>\n",
       "      <td>Vatican City</td>\n",
       "      <td>POINT (12.45338654497177 41.90328217996012)</td>\n",
       "    </tr>\n",
       "    <tr>\n",
       "      <th>1</th>\n",
       "      <td>San Marino</td>\n",
       "      <td>POINT (12.44177015780014 43.936095834768)</td>\n",
       "    </tr>\n",
       "    <tr>\n",
       "      <th>2</th>\n",
       "      <td>Vaduz</td>\n",
       "      <td>POINT (9.516669472907267 47.13372377429357)</td>\n",
       "    </tr>\n",
       "    <tr>\n",
       "      <th>3</th>\n",
       "      <td>Luxembourg</td>\n",
       "      <td>POINT (6.130002806227083 49.61166037912108)</td>\n",
       "    </tr>\n",
       "    <tr>\n",
       "      <th>4</th>\n",
       "      <td>Palikir</td>\n",
       "      <td>POINT (158.1499743237623 6.916643696007725)</td>\n",
       "    </tr>\n",
       "  </tbody>\n",
       "</table>\n",
       "</div>"
      ],
      "text/plain": [
       "           name                                     geometry\n",
       "0  Vatican City  POINT (12.45338654497177 41.90328217996012)\n",
       "1    San Marino    POINT (12.44177015780014 43.936095834768)\n",
       "2         Vaduz  POINT (9.516669472907267 47.13372377429357)\n",
       "3    Luxembourg  POINT (6.130002806227083 49.61166037912108)\n",
       "4       Palikir  POINT (158.1499743237623 6.916643696007725)"
      ]
     },
     "execution_count": 6,
     "metadata": {},
     "output_type": "execute_result"
    }
   ],
   "source": [
    "cities.head()"
   ]
  },
  {
   "cell_type": "code",
   "execution_count": 7,
   "metadata": {},
   "outputs": [
    {
     "data": {
      "text/plain": [
       "0        POINT (12.45338654497177 41.90328217996012)\n",
       "1          POINT (12.44177015780014 43.936095834768)\n",
       "2        POINT (9.516669472907267 47.13372377429357)\n",
       "3        POINT (6.130002806227083 49.61166037912108)\n",
       "4        POINT (158.1499743237623 6.916643696007725)\n",
       "5        POINT (171.3800001757465 7.103004311216239)\n",
       "6       POINT (179.2166470940289 -8.516651999041073)\n",
       "7        POINT (134.6265484669922 7.487396172977981)\n",
       "8        POINT (7.406913173465057 43.73964568785249)\n",
       "9        POINT (173.0175708285494 1.338187505624603)\n",
       "10      POINT (43.24024409869332 -11.70415769566847)\n",
       "11         POINT (1.51648596050552 42.5000014435459)\n",
       "12      POINT (-61.51703088544974 10.65199708957726)\n",
       "13       POINT (30.05858591906411 -1.95164421006325)\n",
       "14      POINT (31.13333451205636 -26.31665077840921)\n",
       "15       POINT (31.58002559278731 4.829975198277964)\n",
       "16        POINT (14.51496903347413 46.0552883087945)\n",
       "17       POINT (17.11698075223461 48.15001832996171)\n",
       "18        POINT (51.5329678942993 25.28655600890659)\n",
       "19       POINT (19.26630692411823 42.46597251288171)\n",
       "20       POINT (7.466975462482424 46.91668275866772)\n",
       "21       POINT (21.16598425159987 42.66670961411938)\n",
       "22      POINT (-61.38701298180337 15.30101564428332)\n",
       "23       POINT (43.14800166705226 11.59501446425548)\n",
       "24       POINT (-16.5917014892126 13.45387646031594)\n",
       "25        POINT (21.4334614651425 42.00000612290586)\n",
       "26      POINT (-59.61652673505159 13.10200258275114)\n",
       "27       POINT (29.3600060615284 -3.376087220374643)\n",
       "28      POINT (-61.21206242027932 13.14827882786841)\n",
       "29      POINT (-61.00000818036955 14.00197348933034)\n",
       "                           ...                      \n",
       "172      POINT (4.914694317400972 52.35191454666443)\n",
       "173      POINT (126.9977851382019 37.56829495838895)\n",
       "174      POINT (120.9802713035424 14.60610481344054)\n",
       "175      POINT (13.39960276470055 52.52376452225116)\n",
       "176     POINT (15.31302602317174 -4.327778243275986)\n",
       "177      POINT (77.19998002005303 28.60002300924543)\n",
       "178      POINT (23.73137522567936 37.98527209055226)\n",
       "179      POINT (44.39192291456413 33.34059435615865)\n",
       "180      POINT (38.69805857534868 9.035256221295754)\n",
       "181       POINT (51.42239817500899 35.6738886270013)\n",
       "182    POINT (-58.39947723233144 -34.60055574990741)\n",
       "183      POINT (69.18131419070505 34.51863614490031)\n",
       "184      POINT (16.36469309674374 48.20196113681686)\n",
       "185        POINT (121.568333333333 25.0358333333333)\n",
       "186     POINT (-77.01136443943716 38.90149523508705)\n",
       "187     POINT (-0.1186677024759319 51.5019405883275)\n",
       "188      POINT (46.77079579868825 24.64277900781644)\n",
       "189     POINT (18.43304229922603 -33.91806510862875)\n",
       "190       POINT (37.6135769672714 55.75410998124818)\n",
       "191     POINT (-99.13293406029391 19.44438830141547)\n",
       "192        POINT (12.481312562874 41.89790148509894)\n",
       "193      POINT (116.3863398256594 39.93083808990906)\n",
       "194     POINT (36.81471100047145 -1.281400883237779)\n",
       "195     POINT (106.8274917624701 -6.172471846798885)\n",
       "196     POINT (-74.08528981377441 4.598369421147822)\n",
       "197      POINT (31.24802236112612 30.05190620510371)\n",
       "198      POINT (139.7494615705447 35.68696276437117)\n",
       "199       POINT (2.33138946713035 48.86863878981461)\n",
       "200     POINT (-70.66898671317483 -33.4480679569341)\n",
       "201       POINT (103.853874819099 1.294979325105942)\n",
       "Name: geometry, Length: 202, dtype: object"
      ]
     },
     "execution_count": 7,
     "metadata": {},
     "output_type": "execute_result"
    }
   ],
   "source": [
    "cities.geometry"
   ]
  },
  {
   "cell_type": "code",
   "execution_count": null,
   "metadata": {},
   "outputs": [],
   "source": []
  }
 ],
 "metadata": {
  "kernelspec": {
   "display_name": "Python 3",
   "language": "python",
   "name": "python3"
  },
  "language_info": {
   "codemirror_mode": {
    "name": "ipython",
    "version": 3
   },
   "file_extension": ".py",
   "mimetype": "text/x-python",
   "name": "python",
   "nbconvert_exporter": "python",
   "pygments_lexer": "ipython3",
   "version": "3.7.3"
  }
 },
 "nbformat": 4,
 "nbformat_minor": 2
}
